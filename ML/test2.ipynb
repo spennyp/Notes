{
 "cells": [
  {
   "cell_type": "markdown",
   "metadata": {},
   "source": [
    "## CPSC 340 Lecture 29: neural networks: `predict`\n",
    "\n",
    "This notebook is for the in-class activities. It assumes you have already watched the [associated video](https://www.youtube.com/watch?v=w60cKkCV_Qk&list=PLWmXHcz_53Q02ZLeAxigki1JZFfCO6M-b&index=29)."
   ]
  },
  {
   "cell_type": "markdown",
   "metadata": {},
   "source": [
    "<font color='red'>**REMINDER TO START RECORDING**</font>\n",
    "\n",
    "Also, reminder to enable screen sharing for Participants."
   ]
  },
  {
   "cell_type": "markdown",
   "metadata": {},
   "source": [
    "## Pre-class music\n",
    "\n",
    "1. Bohemian Rhapsody by Queen\n",
    "2. Lasso by Phoenix"
   ]
  },
  {
   "cell_type": "markdown",
   "metadata": {},
   "source": [
    "## Admin\n",
    "\n",
    "- [But what _is_ a Neural Network?](https://www.youtube.com/watch?v=aircAruvnKk&list=PLZHQObOWTQDNU6R1_67000Dx_ZCJB-3pi)\n",
    "- a5 solutions posted\n",
    "- a6 posted, due in 2 weeks (Apr 14)\n",
    "- No class on Friday, no class on Monday, due to holiday. Next class is in one week (Apr 7). \n",
    "- classes left (including today): 5"
   ]
  },
  {
   "cell_type": "markdown",
   "metadata": {},
   "source": [
    "## Final exam poll\n",
    "\n",
    "https://ubc.ca1.qualtrics.com/jfe/form/SV_8oIeygigRed5PJI"
   ]
  },
  {
   "cell_type": "markdown",
   "metadata": {},
   "source": [
    "## Video chapters\n",
    "\n",
    "- supervised learning roadmap\n",
    "- neural network notation\n",
    "- nonlinearity\n",
    "- neural networks\n",
    "- bias variables\n",
    "- a family of functions\n",
    "- simple NN code\n",
    "- counting parameters\n",
    "- demos & random weights\n",
    "- deep learning history\n",
    "- vocabulary\n",
    "- summary"
   ]
  },
  {
   "cell_type": "markdown",
   "metadata": {},
   "source": [
    "## True/False\n",
    "\n",
    "1. For (fully connected) neural networks, the number of parameters $\\geq$ the number of features.\n",
    "2. Any neural network with 3 hidden layers will have more parameters than any neural network with 2 hidden layers.\n",
    "3. Linear regression is a special case of a neural network."
   ]
  },
  {
   "cell_type": "markdown",
   "metadata": {},
   "source": [
    "**Mike's answers:**\n",
    "\n",
    "1. True\n",
    "2. False\n",
    "3. Yes, when you have 0 hidden layers and no nonlinearity (or in other words it's the identity/linear function).  "
   ]
  },
  {
   "cell_type": "code",
   "execution_count": null,
   "metadata": {},
   "outputs": [],
   "source": []
  },
  {
   "cell_type": "markdown",
   "metadata": {},
   "source": [
    "## More True/False\n",
    "\n",
    "4. Like linear regression or logistic regression, with neural networks we can interpret each feature's weight value as a measure of the feature's importance.\n",
    "5. With neural networks, we have a potentially large number of discrete hyperparamaters.\n",
    "6. With neural networks, we have a potentially large number of discrete parameters."
   ]
  },
  {
   "cell_type": "markdown",
   "metadata": {},
   "source": [
    "**Mike's answers:** \n",
    "\n",
    "1. False. I take issue with (my own) wording \"each feature's weight value\" -> actually each feature has a bunch of weight values. More \"processing\" is done them downstream in other layers, so we can't just say a a big weight value means a feature is important and call it a day.\n",
    "2. True: especially the layer sizes. If you have 10 hidden layers, you need to pick the size of each one. You might also choose a different nonlinearity for each layer (though it's fine to use the same one everywhere), etc. \n",
    "3. False. The parameters are the weights (and biases). They are all continuous."
   ]
  },
  {
   "cell_type": "code",
   "execution_count": null,
   "metadata": {},
   "outputs": [],
   "source": []
  },
  {
   "cell_type": "code",
   "execution_count": null,
   "metadata": {},
   "outputs": [],
   "source": []
  },
  {
   "cell_type": "markdown",
   "metadata": {},
   "source": [
    "## Old exam questions"
   ]
  },
  {
   "cell_type": "markdown",
   "metadata": {},
   "source": [
    "#### 2017W1 final\n",
    "\n",
    "Consider a deep neural network with 1 million hidden units. Is this a parametric or a non-parametric classifier?"
   ]
  },
  {
   "cell_type": "markdown",
   "metadata": {},
   "source": [
    "**Mike's answer:** parametric. "
   ]
  },
  {
   "cell_type": "markdown",
   "metadata": {},
   "source": [
    "#### 2016W2\n",
    "\n",
    "Consider a fully-connected neural network with layer sizes $(d, a, b, k)$. This means there are $d$ input features, two hidden layers of size $a$ and $b$ respectively, and then $k$ outputs. How many parameters does the model have?"
   ]
  },
  {
   "cell_type": "markdown",
   "metadata": {},
   "source": [
    "**Mike's answer:** \n",
    "\n",
    "- Weights: $da+ab+bk$\n",
    "- Biases: $a+b+k$\n",
    "- Total: $da+ab+bk+a+b+k$."
   ]
  },
  {
   "cell_type": "code",
   "execution_count": null,
   "metadata": {},
   "outputs": [],
   "source": []
  },
  {
   "cell_type": "markdown",
   "metadata": {},
   "source": [
    "## Student questions\n",
    "\n",
    "https://edstem.org/us/courses/3226/discussion/337930"
   ]
  },
  {
   "cell_type": "code",
   "execution_count": null,
   "metadata": {},
   "outputs": [],
   "source": []
  }
 ],
 "metadata": {
  "kernelspec": {
   "display_name": "Python 3",
   "language": "python",
   "name": "python3"
  },
  "language_info": {
   "codemirror_mode": {
    "name": "ipython",
    "version": 3
   },
   "file_extension": ".py",
   "mimetype": "text/x-python",
   "name": "python",
   "nbconvert_exporter": "python",
   "pygments_lexer": "ipython3",
   "version": "3.9.1"
  }
 },
 "nbformat": 4,
 "nbformat_minor": 4
}
