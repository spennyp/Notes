{
 "cells": [
  {
   "cell_type": "markdown",
   "id": "based-allergy",
   "metadata": {
    "toc": true
   },
   "source": [
    "<h1>Table of Contents<span class=\"tocSkip\"></span></h1>\n",
    "<div class=\"toc\"><ul class=\"toc-item\"><li><span><a href=\"#Thermodynamics\" data-toc-modified-id=\"Thermodynamics-1\"><span class=\"toc-item-num\">1&nbsp;&nbsp;</span>Thermodynamics</a></span></li></ul></div>"
   ]
  },
  {
   "cell_type": "markdown",
   "id": "expensive-broadcast",
   "metadata": {},
   "source": [
    "# Thermodynamics \n",
    "\n",
    "**Goal**: characterize **macroscopic** properties and behavior of a system in equilibrium\n",
    "* Interested in **reversable** (or equilibrium) process: ones that happen so slowly can assume equilibrium at all times\n",
    "* Does not provide the why, formulated through experiments (unlike stat. mech)\n",
    "\n",
    "**Types of systems** - characterized by what is exchanged with the outside world\n",
    "* Isolated: no energy or matter exchanged\n",
    "* Closed: energy exchange (heat), but not matter\n",
    "* Open: both energy and matter exchanged\n",
    "\n",
    "\n",
    "**Empirical approach**: based on empirical evidence (observations)\n",
    "* Intensive quantity: variables independent of system size - density, pressure, temperature, ...\n",
    "    * Scaling doesn't matter: $\\lambda f(a) = f(a)$, if $a$ is intensive\n",
    "* Extensive quantity: variables dependent on system size - mass, internal energy, volume, ...\n",
    "    * Scaling matters: $\\lambda f(a, b) = f(\\lambda a, \\lambda b)$, if $a, b$ are extensive\n",
    "        \n",
    "        \n",
    "**Deductive approach**: based on a axiomatic framework\n",
    "* $0^{th}$ law: 2 systems in thermal equilibrium with a $3^{rd}$ are in equilibrium with each other\n",
    "* $1^{st}$ law: Energy (U) is ALWAYS conserved\n",
    "    \\begin{align}dU = \\delta W + \\delta Q \\end{align}\n",
    "    * $U$: internal energy\n",
    "    * $W$: work done **on** the system\n",
    "    * $Q$: head **added to** the system\n",
    "    > $\\delta$ is used to show that the variable doesn't characterize the state, where as $d$ is used when it's a state variable (like U)\n",
    "* $2^{nd}$ law: entropy (S) of an **isolated** system never decreases. For a **reversible process**:\n",
    "    \\begin{align} \\delta Q_{rev} = T dS \\end{align}\n",
    "    * $\\implies$ the state of maximum entropy is the equilibrium state for an isolated system\n",
    "* $3^{rd}$ law: entropy of a system approaches constant as temperature goes to absolute zero\n",
    "    * This gives an absolute scale to define entropy\n",
    "\n",
    "\n",
    "**Fundamental equation of Thermodynamics**: found by combining (1) and (2)\n",
    "    \\begin{align} dU = \\delta W + T dS \\end{align}\n",
    "\n"
   ]
  },
  {
   "cell_type": "code",
   "execution_count": null,
   "id": "union-identity",
   "metadata": {},
   "outputs": [],
   "source": []
  },
  {
   "cell_type": "code",
   "execution_count": null,
   "id": "distant-coffee",
   "metadata": {},
   "outputs": [],
   "source": []
  }
 ],
 "metadata": {
  "kernelspec": {
   "display_name": "Python 3",
   "language": "python",
   "name": "python3"
  },
  "language_info": {
   "codemirror_mode": {
    "name": "ipython",
    "version": 3
   },
   "file_extension": ".py",
   "mimetype": "text/x-python",
   "name": "python",
   "nbconvert_exporter": "python",
   "pygments_lexer": "ipython3",
   "version": "3.9.1"
  },
  "toc": {
   "base_numbering": 1,
   "nav_menu": {},
   "number_sections": true,
   "sideBar": true,
   "skip_h1_title": false,
   "title_cell": "Table of Contents",
   "title_sidebar": "Contents",
   "toc_cell": true,
   "toc_position": {},
   "toc_section_display": true,
   "toc_window_display": false
  }
 },
 "nbformat": 4,
 "nbformat_minor": 5
}
